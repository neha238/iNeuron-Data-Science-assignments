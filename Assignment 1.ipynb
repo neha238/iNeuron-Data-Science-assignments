{
 "cells": [
  {
   "cell_type": "markdown",
   "id": "76cf3d6c",
   "metadata": {},
   "source": [
    "1. In the below elements which of them are values or an expression? eg:- values can be\n",
    "integer or string and expressions will be mathematical operators.\n",
    "*\n",
    ";hello;\n",
    "-87.8\n",
    "-\n",
    "/\n",
    "+\n",
    "6"
   ]
  },
  {
   "cell_type": "markdown",
   "id": "c5c5c3a0",
   "metadata": {},
   "source": [
    "Ans = expressions - * , - , / , +\n",
    "      values- 'hello' , -87.8 , 6 "
   ]
  },
  {
   "cell_type": "markdown",
   "id": "9375698c",
   "metadata": {},
   "source": [
    "2. What is the difference between string and variable?\n",
    "Ans = string - anything assign to a variable using quotes (single or double) will be considered as a string.\n",
    "        eg 'hello' , \"10\"\n",
    "      variable -  variables are symbols that you can use to store data in a program.\n",
    "        eg x=10 or y='hello'"
   ]
  },
  {
   "cell_type": "markdown",
   "id": "89b371ca",
   "metadata": {},
   "source": [
    "3. Describe three different data types.\n",
    "Ans = three different data types are \n",
    "      integer - This value is represented by int class. It contains positive or negative whole numbers (without fraction or       decimal).\n",
    "       eg - a = 10\n",
    "      float - This value is represented by float class. It is a real number with floating point representation. It is  specified by a decimal point.\n",
    "       eg - b = 10.5\n",
    "      string -  A string is a collection of one or more characters put in a single quote, double-quote or triple quote.  It is represented by str class.\n",
    "       eg - c = '11'"
   ]
  },
  {
   "cell_type": "code",
   "execution_count": 11,
   "id": "23349234",
   "metadata": {},
   "outputs": [],
   "source": [
    "a = 10\n",
    "b = 10.5\n",
    "c = '11'"
   ]
  },
  {
   "cell_type": "code",
   "execution_count": 13,
   "id": "a35567ac",
   "metadata": {},
   "outputs": [
    {
     "data": {
      "text/plain": [
       "int"
      ]
     },
     "execution_count": 13,
     "metadata": {},
     "output_type": "execute_result"
    }
   ],
   "source": [
    "type(a)"
   ]
  },
  {
   "cell_type": "code",
   "execution_count": 14,
   "id": "4f045a3c",
   "metadata": {},
   "outputs": [
    {
     "data": {
      "text/plain": [
       "float"
      ]
     },
     "execution_count": 14,
     "metadata": {},
     "output_type": "execute_result"
    }
   ],
   "source": [
    "type(b)"
   ]
  },
  {
   "cell_type": "code",
   "execution_count": 15,
   "id": "55e2ecba",
   "metadata": {},
   "outputs": [
    {
     "data": {
      "text/plain": [
       "str"
      ]
     },
     "execution_count": 15,
     "metadata": {},
     "output_type": "execute_result"
    }
   ],
   "source": [
    "type(c)"
   ]
  },
  {
   "cell_type": "markdown",
   "id": "b243c7ee",
   "metadata": {},
   "source": [
    "4. What is an expression made up of? What do all expressions do?\n",
    "Ans = An expression is a combination of operators and operands that is interpreted to produce some other value. In any  programming language, an expression is evaluated as per the precedence of its operators. In simple words expressions are representations of value.\n",
    "All expressions give some kind of output when print() command is given.\n",
    "Some of the examples of expression are given below:"
   ]
  },
  {
   "cell_type": "code",
   "execution_count": 18,
   "id": "c61674fd",
   "metadata": {},
   "outputs": [],
   "source": [
    "x = 10 + 2"
   ]
  },
  {
   "cell_type": "code",
   "execution_count": 19,
   "id": "ea30a0a2",
   "metadata": {},
   "outputs": [
    {
     "name": "stdout",
     "output_type": "stream",
     "text": [
      "12\n"
     ]
    }
   ],
   "source": [
    "print(x)"
   ]
  },
  {
   "cell_type": "code",
   "execution_count": 20,
   "id": "9ce23f30",
   "metadata": {},
   "outputs": [],
   "source": [
    "e = 13\n",
    "f = 5\n",
    "g = e/f"
   ]
  },
  {
   "cell_type": "code",
   "execution_count": 21,
   "id": "ee2a58e2",
   "metadata": {},
   "outputs": [
    {
     "name": "stdout",
     "output_type": "stream",
     "text": [
      "2.6\n"
     ]
    }
   ],
   "source": [
    "print(g)"
   ]
  },
  {
   "cell_type": "code",
   "execution_count": 22,
   "id": "dbfaa4e5",
   "metadata": {},
   "outputs": [
    {
     "name": "stdout",
     "output_type": "stream",
     "text": [
      "True\n"
     ]
    }
   ],
   "source": [
    "a = 21\n",
    "b = 13\n",
    "c = 40\n",
    "d = 37\n",
    "  \n",
    "p = (a + b) >= (c - d)\n",
    "print(p)"
   ]
  },
  {
   "cell_type": "markdown",
   "id": "7f21ba30",
   "metadata": {},
   "source": [
    "5. This assignment statements, like spam = 10. What is the difference between an expression and a statement?\n",
    "Ans = Statements represent an action or command e.g print statements, assignment statements.\n",
    "      Expression is a combination of variables, operations and values that yields a result value."
   ]
  },
  {
   "cell_type": "markdown",
   "id": "c3fdd2ee",
   "metadata": {},
   "source": [
    "6. After running the following code, what does the variable bacon contain?\n",
    "bacon = 22\n",
    "bacon + 1"
   ]
  },
  {
   "cell_type": "code",
   "execution_count": 23,
   "id": "c49111af",
   "metadata": {},
   "outputs": [
    {
     "data": {
      "text/plain": [
       "23"
      ]
     },
     "execution_count": 23,
     "metadata": {},
     "output_type": "execute_result"
    }
   ],
   "source": [
    "bacon = 22\n",
    "bacon + 1"
   ]
  },
  {
   "cell_type": "markdown",
   "id": "54606331",
   "metadata": {},
   "source": [
    "7. What should the values of the following two terms be?\n",
    "'spam' + 'spamspam'\n",
    "'spam' * 3"
   ]
  },
  {
   "cell_type": "code",
   "execution_count": 25,
   "id": "4e38b53e",
   "metadata": {},
   "outputs": [
    {
     "data": {
      "text/plain": [
       "'spamspamspam'"
      ]
     },
     "execution_count": 25,
     "metadata": {},
     "output_type": "execute_result"
    }
   ],
   "source": [
    "'spam' + 'spamspam'"
   ]
  },
  {
   "cell_type": "code",
   "execution_count": 26,
   "id": "cf59cc92",
   "metadata": {},
   "outputs": [
    {
     "data": {
      "text/plain": [
       "'spamspamspam'"
      ]
     },
     "execution_count": 26,
     "metadata": {},
     "output_type": "execute_result"
    }
   ],
   "source": [
    "'spam' * 3"
   ]
  },
  {
   "cell_type": "markdown",
   "id": "963b427f",
   "metadata": {},
   "source": [
    "8. Why is eggs a valid variable name while 100 is invalid?\n",
    "Ans = variable name cannot begin with a number."
   ]
  },
  {
   "cell_type": "markdown",
   "id": "047c4f00",
   "metadata": {},
   "source": [
    "9. What three functions can be used to get the integer, floating-point number, or string version of a value?\n",
    "Ans = int()\n",
    "      float()\n",
    "      str()"
   ]
  },
  {
   "cell_type": "code",
   "execution_count": 32,
   "id": "ffdaa5b4",
   "metadata": {},
   "outputs": [
    {
     "data": {
      "text/plain": [
       "21"
      ]
     },
     "execution_count": 32,
     "metadata": {},
     "output_type": "execute_result"
    }
   ],
   "source": [
    "a"
   ]
  },
  {
   "cell_type": "code",
   "execution_count": 30,
   "id": "c4094d7b",
   "metadata": {},
   "outputs": [
    {
     "data": {
      "text/plain": [
       "21"
      ]
     },
     "execution_count": 30,
     "metadata": {},
     "output_type": "execute_result"
    }
   ],
   "source": [
    "int(a)"
   ]
  },
  {
   "cell_type": "code",
   "execution_count": 31,
   "id": "92530e35",
   "metadata": {},
   "outputs": [
    {
     "data": {
      "text/plain": [
       "21.0"
      ]
     },
     "execution_count": 31,
     "metadata": {},
     "output_type": "execute_result"
    }
   ],
   "source": [
    "float(a)"
   ]
  },
  {
   "cell_type": "code",
   "execution_count": 34,
   "id": "d69fc09c",
   "metadata": {},
   "outputs": [
    {
     "data": {
      "text/plain": [
       "'21'"
      ]
     },
     "execution_count": 34,
     "metadata": {},
     "output_type": "execute_result"
    }
   ],
   "source": [
    "str(a)"
   ]
  },
  {
   "cell_type": "markdown",
   "id": "8772c90b",
   "metadata": {},
   "source": [
    "10. Why does this expression cause an error? How can you fix it?\n",
    "'I have eaten, + 99 + 'burritos'"
   ]
  },
  {
   "cell_type": "code",
   "execution_count": 38,
   "id": "61e99bff",
   "metadata": {},
   "outputs": [
    {
     "ename": "SyntaxError",
     "evalue": "invalid syntax (Temp/ipykernel_10116/1702908431.py, line 1)",
     "output_type": "error",
     "traceback": [
      "\u001b[1;36m  File \u001b[1;32m\"C:\\Users\\Neha\\AppData\\Local\\Temp/ipykernel_10116/1702908431.py\"\u001b[1;36m, line \u001b[1;32m1\u001b[0m\n\u001b[1;33m    'I have eaten, + 99 + 'burritos'\u001b[0m\n\u001b[1;37m                           ^\u001b[0m\n\u001b[1;31mSyntaxError\u001b[0m\u001b[1;31m:\u001b[0m invalid syntax\n"
     ]
    }
   ],
   "source": [
    "'I have eaten, + 99 + 'burritos'"
   ]
  },
  {
   "cell_type": "code",
   "execution_count": 39,
   "id": "bc80fd52",
   "metadata": {},
   "outputs": [
    {
     "data": {
      "text/plain": [
       "'I have eaten, + 99 +  burritos'"
      ]
     },
     "execution_count": 39,
     "metadata": {},
     "output_type": "execute_result"
    }
   ],
   "source": [
    "'I have eaten, + 99 +  burritos'"
   ]
  },
  {
   "cell_type": "code",
   "execution_count": null,
   "id": "53a678ff",
   "metadata": {},
   "outputs": [],
   "source": []
  }
 ],
 "metadata": {
  "kernelspec": {
   "display_name": "Python 3 (ipykernel)",
   "language": "python",
   "name": "python3"
  },
  "language_info": {
   "codemirror_mode": {
    "name": "ipython",
    "version": 3
   },
   "file_extension": ".py",
   "mimetype": "text/x-python",
   "name": "python",
   "nbconvert_exporter": "python",
   "pygments_lexer": "ipython3",
   "version": "3.9.7"
  }
 },
 "nbformat": 4,
 "nbformat_minor": 5
}
